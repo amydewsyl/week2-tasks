{
  "nbformat": 4,
  "nbformat_minor": 0,
  "metadata": {
    "colab": {
      "name": "task2.ipynb",
      "provenance": []
    },
    "kernelspec": {
      "name": "python3",
      "display_name": "Python 3"
    },
    "language_info": {
      "name": "python"
    }
  },
  "cells": [
    {
      "cell_type": "code",
      "execution_count": 1,
      "metadata": {
        "id": "LsF8Ygn-LmjH",
        "colab": {
          "base_uri": "https://localhost:8080/",
          "height": 1000
        },
        "outputId": "2be26bd2-77c0-493f-dac4-415fddfea577"
      },
      "outputs": [
        {
          "output_type": "stream",
          "name": "stdout",
          "text": [
            "Looking in indexes: https://pypi.org/simple, https://us-python.pkg.dev/colab-wheels/public/simple/\n",
            "Collecting cirq\n",
            "  Downloading cirq-0.15.0-py3-none-any.whl (7.8 kB)\n",
            "Collecting cirq-core==0.15.0\n",
            "  Downloading cirq_core-0.15.0-py3-none-any.whl (1.8 MB)\n",
            "\u001b[K     |████████████████████████████████| 1.8 MB 4.9 MB/s \n",
            "\u001b[?25hCollecting cirq-google==0.15.0\n",
            "  Downloading cirq_google-0.15.0-py3-none-any.whl (641 kB)\n",
            "\u001b[K     |████████████████████████████████| 641 kB 56.9 MB/s \n",
            "\u001b[?25hCollecting cirq-rigetti==0.15.0\n",
            "  Downloading cirq_rigetti-0.15.0-py3-none-any.whl (66 kB)\n",
            "\u001b[K     |████████████████████████████████| 66 kB 4.7 MB/s \n",
            "\u001b[?25hCollecting cirq-pasqal==0.15.0\n",
            "  Downloading cirq_pasqal-0.15.0-py3-none-any.whl (32 kB)\n",
            "Collecting cirq-aqt==0.15.0\n",
            "  Downloading cirq_aqt-0.15.0-py3-none-any.whl (20 kB)\n",
            "Collecting cirq-web==0.15.0\n",
            "  Downloading cirq_web-0.15.0-py3-none-any.whl (594 kB)\n",
            "\u001b[K     |████████████████████████████████| 594 kB 42.2 MB/s \n",
            "\u001b[?25hCollecting cirq-ionq==0.15.0\n",
            "  Downloading cirq_ionq-0.15.0-py3-none-any.whl (57 kB)\n",
            "\u001b[K     |████████████████████████████████| 57 kB 3.8 MB/s \n",
            "\u001b[?25hRequirement already satisfied: requests~=2.18 in /usr/local/lib/python3.7/dist-packages (from cirq-aqt==0.15.0->cirq) (2.23.0)\n",
            "Collecting duet~=0.2.6\n",
            "  Downloading duet-0.2.7-py3-none-any.whl (28 kB)\n",
            "Requirement already satisfied: pandas in /usr/local/lib/python3.7/dist-packages (from cirq-core==0.15.0->cirq) (1.3.5)\n",
            "Collecting backports.cached-property~=1.0.1\n",
            "  Downloading backports.cached_property-1.0.2-py3-none-any.whl (6.1 kB)\n",
            "Requirement already satisfied: sympy in /usr/local/lib/python3.7/dist-packages (from cirq-core==0.15.0->cirq) (1.7.1)\n",
            "Requirement already satisfied: numpy~=1.16 in /usr/local/lib/python3.7/dist-packages (from cirq-core==0.15.0->cirq) (1.21.6)\n",
            "Requirement already satisfied: matplotlib~=3.0 in /usr/local/lib/python3.7/dist-packages (from cirq-core==0.15.0->cirq) (3.2.2)\n",
            "Requirement already satisfied: scipy in /usr/local/lib/python3.7/dist-packages (from cirq-core==0.15.0->cirq) (1.4.1)\n",
            "Requirement already satisfied: tqdm in /usr/local/lib/python3.7/dist-packages (from cirq-core==0.15.0->cirq) (4.64.0)\n",
            "Requirement already satisfied: sortedcontainers~=2.0 in /usr/local/lib/python3.7/dist-packages (from cirq-core==0.15.0->cirq) (2.4.0)\n",
            "Requirement already satisfied: typing-extensions in /usr/local/lib/python3.7/dist-packages (from cirq-core==0.15.0->cirq) (4.1.1)\n",
            "Requirement already satisfied: networkx~=2.4 in /usr/local/lib/python3.7/dist-packages (from cirq-core==0.15.0->cirq) (2.6.3)\n",
            "Requirement already satisfied: protobuf<4,>=3.13.0 in /usr/local/lib/python3.7/dist-packages (from cirq-google==0.15.0->cirq) (3.17.3)\n",
            "Collecting proto-plus>=1.20.0\n",
            "  Downloading proto_plus-1.20.6-py3-none-any.whl (46 kB)\n",
            "\u001b[K     |████████████████████████████████| 46 kB 4.0 MB/s \n",
            "\u001b[?25hRequirement already satisfied: google-api-core[grpc]<2.0.0dev,>=1.14.0 in /usr/local/lib/python3.7/dist-packages (from cirq-google==0.15.0->cirq) (1.31.6)\n",
            "Collecting retrying~=1.3.3\n",
            "  Downloading retrying-1.3.3.tar.gz (10 kB)\n",
            "Collecting rfc3986~=1.5.0\n",
            "  Downloading rfc3986-1.5.0-py2.py3-none-any.whl (31 kB)\n",
            "Collecting h11~=0.9.0\n",
            "  Downloading h11-0.9.0-py2.py3-none-any.whl (53 kB)\n",
            "\u001b[K     |████████████████████████████████| 53 kB 2.2 MB/s \n",
            "\u001b[?25hCollecting httpcore~=0.11.1\n",
            "  Downloading httpcore-0.11.1-py3-none-any.whl (52 kB)\n",
            "\u001b[K     |████████████████████████████████| 52 kB 1.4 MB/s \n",
            "\u001b[?25hCollecting pyquil~=3.0.0\n",
            "  Downloading pyquil-3.0.1-py3-none-any.whl (220 kB)\n",
            "\u001b[K     |████████████████████████████████| 220 kB 43.0 MB/s \n",
            "\u001b[?25hRequirement already satisfied: idna~=2.10 in /usr/local/lib/python3.7/dist-packages (from cirq-rigetti==0.15.0->cirq) (2.10)\n",
            "Collecting toml~=0.10.2\n",
            "  Downloading toml-0.10.2-py2.py3-none-any.whl (16 kB)\n",
            "Collecting certifi~=2021.5.30\n",
            "  Downloading certifi-2021.5.30-py2.py3-none-any.whl (145 kB)\n",
            "\u001b[K     |████████████████████████████████| 145 kB 44.7 MB/s \n",
            "\u001b[?25hCollecting httpx~=0.15.5\n",
            "  Downloading httpx-0.15.5-py3-none-any.whl (65 kB)\n",
            "\u001b[K     |████████████████████████████████| 65 kB 3.4 MB/s \n",
            "\u001b[?25hCollecting iso8601~=0.1.14\n",
            "  Downloading iso8601-0.1.16-py2.py3-none-any.whl (10 kB)\n",
            "Requirement already satisfied: pydantic~=1.8.2 in /usr/local/lib/python3.7/dist-packages (from cirq-rigetti==0.15.0->cirq) (1.8.2)\n",
            "Collecting qcs-api-client~=0.8.0\n",
            "  Downloading qcs_api_client-0.8.0-py3-none-any.whl (97 kB)\n",
            "\u001b[K     |████████████████████████████████| 97 kB 7.0 MB/s \n",
            "\u001b[?25hCollecting six~=1.16.0\n",
            "  Downloading six-1.16.0-py2.py3-none-any.whl (11 kB)\n",
            "Requirement already satisfied: python-dateutil~=2.8.1 in /usr/local/lib/python3.7/dist-packages (from cirq-rigetti==0.15.0->cirq) (2.8.2)\n",
            "Collecting rfc3339~=6.2\n",
            "  Downloading rfc3339-6.2-py3-none-any.whl (5.5 kB)\n",
            "Collecting attrs~=20.3.0\n",
            "  Downloading attrs-20.3.0-py2.py3-none-any.whl (49 kB)\n",
            "\u001b[K     |████████████████████████████████| 49 kB 6.0 MB/s \n",
            "\u001b[?25hCollecting sniffio~=1.2.0\n",
            "  Downloading sniffio-1.2.0-py3-none-any.whl (10 kB)\n",
            "Collecting pyjwt~=1.7.1\n",
            "  Downloading PyJWT-1.7.1-py2.py3-none-any.whl (18 kB)\n",
            "Collecting typing-extensions\n",
            "  Downloading typing_extensions-3.10.0.0-py3-none-any.whl (26 kB)\n",
            "Requirement already satisfied: google-auth<2.0dev,>=1.25.0 in /usr/local/lib/python3.7/dist-packages (from google-api-core[grpc]<2.0.0dev,>=1.14.0->cirq-google==0.15.0->cirq) (1.35.0)\n",
            "Requirement already satisfied: setuptools>=40.3.0 in /usr/local/lib/python3.7/dist-packages (from google-api-core[grpc]<2.0.0dev,>=1.14.0->cirq-google==0.15.0->cirq) (57.4.0)\n",
            "Requirement already satisfied: packaging>=14.3 in /usr/local/lib/python3.7/dist-packages (from google-api-core[grpc]<2.0.0dev,>=1.14.0->cirq-google==0.15.0->cirq) (21.3)\n",
            "Requirement already satisfied: pytz in /usr/local/lib/python3.7/dist-packages (from google-api-core[grpc]<2.0.0dev,>=1.14.0->cirq-google==0.15.0->cirq) (2022.1)\n",
            "Requirement already satisfied: googleapis-common-protos<2.0dev,>=1.6.0 in /usr/local/lib/python3.7/dist-packages (from google-api-core[grpc]<2.0.0dev,>=1.14.0->cirq-google==0.15.0->cirq) (1.56.2)\n",
            "Requirement already satisfied: grpcio<2.0dev,>=1.29.0 in /usr/local/lib/python3.7/dist-packages (from google-api-core[grpc]<2.0.0dev,>=1.14.0->cirq-google==0.15.0->cirq) (1.46.3)\n",
            "Requirement already satisfied: cachetools<5.0,>=2.0.0 in /usr/local/lib/python3.7/dist-packages (from google-auth<2.0dev,>=1.25.0->google-api-core[grpc]<2.0.0dev,>=1.14.0->cirq-google==0.15.0->cirq) (4.2.4)\n",
            "Requirement already satisfied: pyasn1-modules>=0.2.1 in /usr/local/lib/python3.7/dist-packages (from google-auth<2.0dev,>=1.25.0->google-api-core[grpc]<2.0.0dev,>=1.14.0->cirq-google==0.15.0->cirq) (0.2.8)\n",
            "Requirement already satisfied: rsa<5,>=3.1.4 in /usr/local/lib/python3.7/dist-packages (from google-auth<2.0dev,>=1.25.0->google-api-core[grpc]<2.0.0dev,>=1.14.0->cirq-google==0.15.0->cirq) (4.8)\n",
            "Requirement already satisfied: cycler>=0.10 in /usr/local/lib/python3.7/dist-packages (from matplotlib~=3.0->cirq-core==0.15.0->cirq) (0.11.0)\n",
            "Requirement already satisfied: kiwisolver>=1.0.1 in /usr/local/lib/python3.7/dist-packages (from matplotlib~=3.0->cirq-core==0.15.0->cirq) (1.4.3)\n",
            "Requirement already satisfied: pyparsing!=2.0.4,!=2.1.2,!=2.1.6,>=2.0.1 in /usr/local/lib/python3.7/dist-packages (from matplotlib~=3.0->cirq-core==0.15.0->cirq) (3.0.9)\n",
            "Collecting protobuf<4,>=3.13.0\n",
            "  Downloading protobuf-3.20.1-cp37-cp37m-manylinux_2_5_x86_64.manylinux1_x86_64.whl (1.0 MB)\n",
            "\u001b[K     |████████████████████████████████| 1.0 MB 52.8 MB/s \n",
            "\u001b[?25hRequirement already satisfied: pyasn1<0.5.0,>=0.4.6 in /usr/local/lib/python3.7/dist-packages (from pyasn1-modules>=0.2.1->google-auth<2.0dev,>=1.25.0->google-api-core[grpc]<2.0.0dev,>=1.14.0->cirq-google==0.15.0->cirq) (0.4.8)\n",
            "Collecting lark<0.12.0,>=0.11.1\n",
            "  Downloading lark-0.11.3.tar.gz (229 kB)\n",
            "\u001b[K     |████████████████████████████████| 229 kB 47.1 MB/s \n",
            "\u001b[?25hCollecting rpcq<4.0.0,>=3.6.0\n",
            "  Downloading rpcq-3.10.0.tar.gz (44 kB)\n",
            "\u001b[K     |████████████████████████████████| 44 kB 3.1 MB/s \n",
            "\u001b[?25hCollecting scipy\n",
            "  Downloading scipy-1.7.3-cp37-cp37m-manylinux_2_12_x86_64.manylinux2010_x86_64.whl (38.1 MB)\n",
            "\u001b[K     |████████████████████████████████| 38.1 MB 1.4 MB/s \n",
            "\u001b[?25hCollecting importlib-metadata<4.0.0,>=3.7.3\n",
            "  Downloading importlib_metadata-3.10.1-py3-none-any.whl (14 kB)\n",
            "Collecting retry<0.10.0,>=0.9.2\n",
            "  Downloading retry-0.9.2-py2.py3-none-any.whl (8.0 kB)\n",
            "Requirement already satisfied: zipp>=0.5 in /usr/local/lib/python3.7/dist-packages (from importlib-metadata<4.0.0,>=3.7.3->pyquil~=3.0.0->cirq-rigetti==0.15.0->cirq) (3.8.0)\n",
            "Requirement already satisfied: chardet<4,>=3.0.2 in /usr/local/lib/python3.7/dist-packages (from requests~=2.18->cirq-aqt==0.15.0->cirq) (3.0.4)\n",
            "Requirement already satisfied: urllib3!=1.25.0,!=1.25.1,<1.26,>=1.21.1 in /usr/local/lib/python3.7/dist-packages (from requests~=2.18->cirq-aqt==0.15.0->cirq) (1.24.3)\n",
            "Requirement already satisfied: py<2.0.0,>=1.4.26 in /usr/local/lib/python3.7/dist-packages (from retry<0.10.0,>=0.9.2->pyquil~=3.0.0->cirq-rigetti==0.15.0->cirq) (1.11.0)\n",
            "Requirement already satisfied: decorator>=3.4.2 in /usr/local/lib/python3.7/dist-packages (from retry<0.10.0,>=0.9.2->pyquil~=3.0.0->cirq-rigetti==0.15.0->cirq) (4.4.2)\n",
            "Collecting msgpack<1.0,>=0.6\n",
            "  Downloading msgpack-0.6.2-cp37-cp37m-manylinux1_x86_64.whl (243 kB)\n",
            "\u001b[K     |████████████████████████████████| 243 kB 44.1 MB/s \n",
            "\u001b[?25hCollecting python-rapidjson\n",
            "  Downloading python_rapidjson-1.6-cp37-cp37m-manylinux_2_17_x86_64.manylinux2014_x86_64.whl (1.6 MB)\n",
            "\u001b[K     |████████████████████████████████| 1.6 MB 39.8 MB/s \n",
            "\u001b[?25hRequirement already satisfied: pyzmq>=17 in /usr/local/lib/python3.7/dist-packages (from rpcq<4.0.0,>=3.6.0->pyquil~=3.0.0->cirq-rigetti==0.15.0->cirq) (23.1.0)\n",
            "Collecting ruamel.yaml\n",
            "  Downloading ruamel.yaml-0.17.21-py3-none-any.whl (109 kB)\n",
            "\u001b[K     |████████████████████████████████| 109 kB 52.7 MB/s \n",
            "\u001b[?25hCollecting ruamel.yaml.clib>=0.2.6\n",
            "  Downloading ruamel.yaml.clib-0.2.6-cp37-cp37m-manylinux1_x86_64.whl (546 kB)\n",
            "\u001b[K     |████████████████████████████████| 546 kB 62.2 MB/s \n",
            "\u001b[?25hRequirement already satisfied: mpmath>=0.19 in /usr/local/lib/python3.7/dist-packages (from sympy->cirq-core==0.15.0->cirq) (1.2.1)\n",
            "Building wheels for collected packages: lark, retrying, rpcq\n",
            "  Building wheel for lark (setup.py) ... \u001b[?25l\u001b[?25hdone\n",
            "  Created wheel for lark: filename=lark-0.11.3-py2.py3-none-any.whl size=99648 sha256=ec332e7d420f0544ef15b4d56bb3c2b3ca97cde85e270d186329b3623010f292\n",
            "  Stored in directory: /root/.cache/pip/wheels/d7/61/3c/9ac365f55966367be8d77dbeb21a3ddece3c466e660121e8d6\n",
            "  Building wheel for retrying (setup.py) ... \u001b[?25l\u001b[?25hdone\n",
            "  Created wheel for retrying: filename=retrying-1.3.3-py3-none-any.whl size=11447 sha256=ceba55da3e8d7ebca2d0220ea7819f0bd28c49dd680e5ed176aaba6245fede23\n",
            "  Stored in directory: /root/.cache/pip/wheels/f9/8d/8d/f6af3f7f9eea3553bc2fe6d53e4b287dad18b06a861ac56ddf\n",
            "  Building wheel for rpcq (setup.py) ... \u001b[?25l\u001b[?25hdone\n",
            "  Created wheel for rpcq: filename=rpcq-3.10.0-py3-none-any.whl size=45969 sha256=69e016178d101622699a280d78398321e3d09fbc5eb08bb5f13adbb49146a749\n",
            "  Stored in directory: /root/.cache/pip/wheels/ff/44/60/4b8ce5700839431ee56820af595a2ac0e013a180232e5afba6\n",
            "Successfully built lark retrying rpcq\n",
            "Installing collected packages: sniffio, rfc3986, h11, typing-extensions, six, ruamel.yaml.clib, protobuf, httpcore, certifi, toml, ruamel.yaml, rfc3339, retrying, python-rapidjson, pyjwt, msgpack, iso8601, httpx, attrs, scipy, rpcq, retry, qcs-api-client, lark, importlib-metadata, duet, backports.cached-property, pyquil, proto-plus, cirq-core, cirq-web, cirq-rigetti, cirq-pasqal, cirq-ionq, cirq-google, cirq-aqt, cirq\n",
            "  Attempting uninstall: typing-extensions\n",
            "    Found existing installation: typing-extensions 4.1.1\n",
            "    Uninstalling typing-extensions-4.1.1:\n",
            "      Successfully uninstalled typing-extensions-4.1.1\n",
            "  Attempting uninstall: six\n",
            "    Found existing installation: six 1.15.0\n",
            "    Uninstalling six-1.15.0:\n",
            "      Successfully uninstalled six-1.15.0\n",
            "  Attempting uninstall: protobuf\n",
            "    Found existing installation: protobuf 3.17.3\n",
            "    Uninstalling protobuf-3.17.3:\n",
            "      Successfully uninstalled protobuf-3.17.3\n",
            "  Attempting uninstall: certifi\n",
            "    Found existing installation: certifi 2022.6.15\n",
            "    Uninstalling certifi-2022.6.15:\n",
            "      Successfully uninstalled certifi-2022.6.15\n",
            "  Attempting uninstall: msgpack\n",
            "    Found existing installation: msgpack 1.0.4\n",
            "    Uninstalling msgpack-1.0.4:\n",
            "      Successfully uninstalled msgpack-1.0.4\n",
            "  Attempting uninstall: attrs\n",
            "    Found existing installation: attrs 21.4.0\n",
            "    Uninstalling attrs-21.4.0:\n",
            "      Successfully uninstalled attrs-21.4.0\n",
            "  Attempting uninstall: scipy\n",
            "    Found existing installation: scipy 1.4.1\n",
            "    Uninstalling scipy-1.4.1:\n",
            "      Successfully uninstalled scipy-1.4.1\n",
            "  Attempting uninstall: importlib-metadata\n",
            "    Found existing installation: importlib-metadata 4.11.4\n",
            "    Uninstalling importlib-metadata-4.11.4:\n",
            "      Successfully uninstalled importlib-metadata-4.11.4\n",
            "\u001b[31mERROR: pip's dependency resolver does not currently take into account all the packages that are installed. This behaviour is the source of the following dependency conflicts.\n",
            "tensorflow 2.8.2+zzzcolab20220527125636 requires protobuf<3.20,>=3.9.2, but you have protobuf 3.20.1 which is incompatible.\n",
            "markdown 3.3.7 requires importlib-metadata>=4.4; python_version < \"3.10\", but you have importlib-metadata 3.10.1 which is incompatible.\n",
            "google-colab 1.0.0 requires six~=1.15.0, but you have six 1.16.0 which is incompatible.\n",
            "datascience 0.10.6 requires folium==0.2.1, but you have folium 0.8.3 which is incompatible.\n",
            "albumentations 0.1.12 requires imgaug<0.2.7,>=0.2.5, but you have imgaug 0.2.9 which is incompatible.\u001b[0m\n",
            "Successfully installed attrs-20.3.0 backports.cached-property-1.0.2 certifi-2021.5.30 cirq-0.15.0 cirq-aqt-0.15.0 cirq-core-0.15.0 cirq-google-0.15.0 cirq-ionq-0.15.0 cirq-pasqal-0.15.0 cirq-rigetti-0.15.0 cirq-web-0.15.0 duet-0.2.7 h11-0.9.0 httpcore-0.11.1 httpx-0.15.5 importlib-metadata-3.10.1 iso8601-0.1.16 lark-0.11.3 msgpack-0.6.2 proto-plus-1.20.6 protobuf-3.20.1 pyjwt-1.7.1 pyquil-3.0.1 python-rapidjson-1.6 qcs-api-client-0.8.0 retry-0.9.2 retrying-1.3.3 rfc3339-6.2 rfc3986-1.5.0 rpcq-3.10.0 ruamel.yaml-0.17.21 ruamel.yaml.clib-0.2.6 scipy-1.7.3 six-1.16.0 sniffio-1.2.0 toml-0.10.2 typing-extensions-3.10.0.0\n"
          ]
        },
        {
          "output_type": "display_data",
          "data": {
            "application/vnd.colab-display-data+json": {
              "pip_warning": {
                "packages": [
                  "google",
                  "six",
                  "typing_extensions"
                ]
              }
            }
          },
          "metadata": {}
        }
      ],
      "source": [
        "pip install cirq"
      ]
    },
    {
      "cell_type": "code",
      "source": [
        "import cirq_google\n",
        "print(cirq_google.Sycamore)"
      ],
      "metadata": {
        "colab": {
          "base_uri": "https://localhost:8080/"
        },
        "id": "OMGeKu9wM06R",
        "outputId": "bb72dd14-851b-4d90-e625-d19f33704f8a"
      },
      "execution_count": 2,
      "outputs": [
        {
          "output_type": "stream",
          "name": "stdout",
          "text": [
            "                                             (0, 5)───(0, 6)\n",
            "                                             │        │\n",
            "                                             │        │\n",
            "                                    (1, 4)───(1, 5)───(1, 6)───(1, 7)\n",
            "                                    │        │        │        │\n",
            "                                    │        │        │        │\n",
            "                           (2, 3)───(2, 4)───(2, 5)───(2, 6)───(2, 7)───(2, 8)\n",
            "                           │        │        │        │        │        │\n",
            "                           │        │        │        │        │        │\n",
            "                  (3, 2)───(3, 3)───(3, 4)───(3, 5)───(3, 6)───(3, 7)───(3, 8)───(3, 9)\n",
            "                  │        │        │        │        │        │        │        │\n",
            "                  │        │        │        │        │        │        │        │\n",
            "         (4, 1)───(4, 2)───(4, 3)───(4, 4)───(4, 5)───(4, 6)───(4, 7)───(4, 8)───(4, 9)\n",
            "         │        │        │        │        │        │        │        │\n",
            "         │        │        │        │        │        │        │        │\n",
            "(5, 0)───(5, 1)───(5, 2)───(5, 3)───(5, 4)───(5, 5)───(5, 6)───(5, 7)───(5, 8)\n",
            "         │        │        │        │        │        │        │\n",
            "         │        │        │        │        │        │        │\n",
            "         (6, 1)───(6, 2)───(6, 3)───(6, 4)───(6, 5)───(6, 6)───(6, 7)\n",
            "                  │        │        │        │        │\n",
            "                  │        │        │        │        │\n",
            "                  (7, 2)───(7, 3)───(7, 4)───(7, 5)───(7, 6)\n",
            "                           │        │        │\n",
            "                           │        │        │\n",
            "                           (8, 3)───(8, 4)───(8, 5)\n",
            "                                    │\n",
            "                                    │\n",
            "                                    (9, 4)\n"
          ]
        },
        {
          "output_type": "stream",
          "name": "stderr",
          "text": [
            "/usr/local/lib/python3.7/dist-packages/cirq/ops/gateset.py:377: UserWarning: v0.14.1 is the last release `cirq.GlobalPhaseGate` is included by default. If you were relying on this behavior, you can include a `cirq.GlobalPhaseGate` in your `*gates`. If not, then you can ignore this warning. It will be removed in v0.16\n",
            "  'v0.14.1 is the last release `cirq.GlobalPhaseGate` is included by default. If'\n"
          ]
        }
      ]
    },
    {
      "cell_type": "code",
      "source": [
        "import cirq\n",
        "\n",
        "a = cirq.NamedQubit('s')\n",
        "b = cirq.NamedQubit('j')\n",
        "\n",
        "a, b, c = cirq.LineQubit.range(3)\n",
        "d = cirq.LineQubit(6)\n",
        "e = cirq.GridQubit(4, 5)\n",
        "\n",
        "\n",
        "print(a)\n",
        "print(b)\n",
        "print(c)\n",
        "print(d)\n",
        "print(e)"
      ],
      "metadata": {
        "colab": {
          "base_uri": "https://localhost:8080/"
        },
        "id": "4PZFxMOpM4W3",
        "outputId": "1dd1182f-a6f8-4afb-acdf-084193c7cb6b"
      },
      "execution_count": 3,
      "outputs": [
        {
          "output_type": "stream",
          "name": "stdout",
          "text": [
            "q(0)\n",
            "q(1)\n",
            "q(2)\n",
            "q(6)\n",
            "q(4, 5)\n"
          ]
        }
      ]
    },
    {
      "cell_type": "code",
      "source": [
        "import cirq\n",
        "a = cirq.GridQubit(0, 1)\n",
        "b = cirq.Circuit(\n",
        "    cirq.X(a)**0.5,  \n",
        "    cirq.measure(a, key='m')  \n",
        ")\n",
        "print(\"Circuit:\")\n",
        "print(b)\n",
        "\n",
        "s = cirq.Simulator()\n",
        "r = s.run(b, repetitions=10)\n",
        "print(\"Results:\")\n",
        "print(r)"
      ],
      "metadata": {
        "colab": {
          "base_uri": "https://localhost:8080/"
        },
        "id": "Pea8-f0oNJW-",
        "outputId": "f4bb3121-7098-4b04-899d-24692b54ce73"
      },
      "execution_count": 4,
      "outputs": [
        {
          "output_type": "stream",
          "name": "stdout",
          "text": [
            "Circuit:\n",
            "(0, 1): ───X^0.5───M('m')───\n",
            "Results:\n",
            "m=0100110100\n"
          ]
        }
      ]
    },
    {
      "cell_type": "code",
      "source": [
        "print(cirq.Circuit(cirq.SWAP(q, q + 1) for q in cirq.LineQubit.range(4)))"
      ],
      "metadata": {
        "colab": {
          "base_uri": "https://localhost:8080/"
        },
        "id": "I25CZBuRNbu8",
        "outputId": "3e2313cd-8e7a-4e64-9423-a9b3378d8877"
      },
      "execution_count": 5,
      "outputs": [
        {
          "output_type": "stream",
          "name": "stdout",
          "text": [
            "0: ───×───────────────\n",
            "      │\n",
            "1: ───×───×───────────\n",
            "          │\n",
            "2: ───────×───×───────\n",
            "              │\n",
            "3: ───────────×───×───\n",
            "                  │\n",
            "4: ───────────────×───\n"
          ]
        }
      ]
    },
    {
      "cell_type": "code",
      "source": [
        "circuit = cirq.Circuit()\n",
        "ops = [cirq.H(q) for q in cirq.LineQubit.range(5)]\n",
        "circuit.append(ops)\n",
        "print(circuit)"
      ],
      "metadata": {
        "colab": {
          "base_uri": "https://localhost:8080/"
        },
        "id": "MnmY_qDcNkCI",
        "outputId": "fc8e6097-d7e0-44e3-ffc0-73160a90aca7"
      },
      "execution_count": 6,
      "outputs": [
        {
          "output_type": "stream",
          "name": "stdout",
          "text": [
            "0: ───H───\n",
            "\n",
            "1: ───H───\n",
            "\n",
            "2: ───H───\n",
            "\n",
            "3: ───H───\n",
            "\n",
            "4: ───H───\n"
          ]
        }
      ]
    },
    {
      "cell_type": "code",
      "source": [
        "a = cirq.NamedQubit('amy')\n",
        "b = cirq.NamedQubit('stacy')\n",
        "c = cirq.NamedQubit('scarlet')\n",
        "\n",
        "print(cirq.H(b))\n",
        "print(cirq.CNOT(b, c))\n",
        "print(cirq.CNOT(a, b))\n",
        "print(cirq.H(a))\n",
        "print(cirq.measure(a,b))"
      ],
      "metadata": {
        "colab": {
          "base_uri": "https://localhost:8080/"
        },
        "id": "nsEzi-kXOK9h",
        "outputId": "ded06ae8-753d-4ff6-cc44-51b0cbfc5543"
      },
      "execution_count": 9,
      "outputs": [
        {
          "output_type": "stream",
          "name": "stdout",
          "text": [
            "H(stacy)\n",
            "CNOT(stacy, scarlet)\n",
            "CNOT(amy, stacy)\n",
            "H(amy)\n",
            "cirq.MeasurementGate(2, cirq.MeasurementKey(name='amy,stacy'), ())(amy, stacy)\n"
          ]
        }
      ]
    },
    {
      "cell_type": "code",
      "source": [
        "import cirq\n",
        "cnot= cirq.CNOT\n",
        "pauli= cirq.Z\n",
        "sqrt1= cirq.X**0.5\n",
        "sqrt2= cirq.YPowGate(exponent=0.25)\n",
        "a, b= cirq.LineQubit.range(2)\n",
        "swap= cirq.SQRT_ISWAP(a, b)\n",
        "c= cnot(a, b)\n",
        "d= pauli(a)\n",
        "e= sqrt1(b)\n",
        "f= sqrt2(a)\n",
        "print(c)\n",
        "print(d)\n",
        "print(e)\n",
        "print(f)\n",
        "print(swap)"
      ],
      "metadata": {
        "colab": {
          "base_uri": "https://localhost:8080/"
        },
        "id": "1YkerXdROp7-",
        "outputId": "a395af59-1778-4e70-98f8-6c57f8ccc99b"
      },
      "execution_count": 10,
      "outputs": [
        {
          "output_type": "stream",
          "name": "stdout",
          "text": [
            "CNOT(q(0), q(1))\n",
            "Z(q(0))\n",
            "X**0.5(q(1))\n",
            "Y**0.25(q(0))\n",
            "ISWAP**0.5(q(0), q(1))\n"
          ]
        }
      ]
    },
    {
      "cell_type": "code",
      "source": [
        "qubits = cirq.GridQubit.square(4)\n",
        "\n",
        "print(qubits[0])\n",
        "print(qubits)"
      ],
      "metadata": {
        "colab": {
          "base_uri": "https://localhost:8080/"
        },
        "id": "rF3nojRdPpQU",
        "outputId": "bd7e6e06-0b3a-465a-da2e-08a3ee539979"
      },
      "execution_count": 12,
      "outputs": [
        {
          "output_type": "stream",
          "name": "stdout",
          "text": [
            "q(0, 0)\n",
            "[cirq.GridQubit(0, 0), cirq.GridQubit(0, 1), cirq.GridQubit(0, 2), cirq.GridQubit(0, 3), cirq.GridQubit(1, 0), cirq.GridQubit(1, 1), cirq.GridQubit(1, 2), cirq.GridQubit(1, 3), cirq.GridQubit(2, 0), cirq.GridQubit(2, 1), cirq.GridQubit(2, 2), cirq.GridQubit(2, 3), cirq.GridQubit(3, 0), cirq.GridQubit(3, 1), cirq.GridQubit(3, 2), cirq.GridQubit(3, 3)]\n"
          ]
        }
      ]
    },
    {
      "cell_type": "code",
      "source": [
        "x_gate = cirq.X\n",
        "x_op = x_gate(qubits[1])\n",
        "\n",
        "print(x_op)"
      ],
      "metadata": {
        "colab": {
          "base_uri": "https://localhost:8080/"
        },
        "id": "ySIwnuHePzfO",
        "outputId": "f9328cde-0027-47ae-d814-5225f884fe81"
      },
      "execution_count": 13,
      "outputs": [
        {
          "output_type": "stream",
          "name": "stdout",
          "text": [
            "X(q(0, 1))\n"
          ]
        }
      ]
    },
    {
      "cell_type": "code",
      "source": [
        "cz = cirq.CZ(qubits[0], qubits[1])\n",
        "x = cirq.X(qubits[2])\n",
        "moment = cirq.Moment(x, cz)\n",
        "\n",
        "print(moment)"
      ],
      "metadata": {
        "colab": {
          "base_uri": "https://localhost:8080/"
        },
        "id": "Nne9rwjlP-k9",
        "outputId": "0ad381bd-de99-4d69-be37-c1af5687fa75"
      },
      "execution_count": 14,
      "outputs": [
        {
          "output_type": "stream",
          "name": "stdout",
          "text": [
            "  ╷ 0 1 2\n",
            "╶─┼───────\n",
            "0 │ @─@ X\n",
            "  │\n"
          ]
        }
      ]
    },
    {
      "cell_type": "code",
      "source": [
        "cz01 = cirq.CZ(qubits[0], qubits[1])\n",
        "x2 = cirq.X(qubits[2])\n",
        "cz12 = cirq.CZ(qubits[1], qubits[2])\n",
        "moment0 = cirq.Moment([cz01, x2])\n",
        "moment1 = cirq.Moment([cz12])\n",
        "circuit = cirq.Circuit((moment0, moment1))\n",
        "\n",
        "print(circuit)"
      ],
      "metadata": {
        "colab": {
          "base_uri": "https://localhost:8080/"
        },
        "id": "ZKs7iKsAQFTf",
        "outputId": "22ebcee3-529f-4c44-fb3e-c7e4b81be6b1"
      },
      "execution_count": 15,
      "outputs": [
        {
          "output_type": "stream",
          "name": "stdout",
          "text": [
            "(0, 0): ───@───────\n",
            "           │\n",
            "(0, 1): ───@───@───\n",
            "               │\n",
            "(0, 2): ───X───@───\n"
          ]
        }
      ]
    }
  ]
}